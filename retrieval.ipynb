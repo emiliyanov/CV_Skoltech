{
 "cells": [
  {
   "cell_type": "code",
   "execution_count": 1,
   "id": "8e0d32e1",
   "metadata": {
    "ExecuteTime": {
     "end_time": "2022-12-17T16:28:49.072706Z",
     "start_time": "2022-12-17T16:28:44.520947Z"
    }
   },
   "outputs": [],
   "source": [
    "import cv2\n",
    "import numpy as np\n",
    "from sklearn.cluster import MeanShift, estimate_bandwidth\n",
    "def predict_image(train_im, temp_im):\n",
    "    temp_im = temp_im\n",
    "    train_im = cv2.GaussianBlur(train_im, (3,3), sigmaX=0)\n",
    "    train_im = cv2.GaussianBlur(train_im, (3,3), sigmaX=0)\n",
    "    orb = cv2.ORB_create(50000, 1.05, nlevels=20, edgeThreshold = 8, patchSize = 7)\n",
    "    point_k1, desc1 = orb.detectAndCompute(temp_im, None) \n",
    "    point_k2, desc2 = orb.detectAndCompute(train_im, None) \n",
    "    fea_b = cv2.BFMatcher()\n",
    "    best_match = fea_b.knnMatch(desc1, desc2, k=2) \n",
    "    all_best_m = []\n",
    "    for m,n in best_match:\n",
    "        if m.distance < 0.65*n.distance:\n",
    "            all_best_m.append([m])\n",
    "    all_im = cv2.drawMatchesKnn(temp_im, point_k1, train_im, point_k2, all_best_m, None, flags = 2) \n",
    "    impk1 = cv2.drawKeypoints(temp_im, point_k1, None) \n",
    "    impk2 = cv2.drawKeypoints(train_im, point_k2, None)     \n",
    "    bbox = [] \n",
    "    yolo_result = []\n",
    "    minl = []\n",
    "    orb = cv2.ORB_create(50000, 1.05, nlevels=20, edgeThreshold = 8, patchSize = 7)\n",
    "    point_k1, desc1 = orb.detectAndCompute(temp_im, None)\n",
    "    point_k2, desc2 = orb.detectAndCompute(train_im, None)\n",
    "    x = np.array([point_k2[0].pt])\n",
    "    for i in range(len(point_k2)):\n",
    "        x = np.append(x, [point_k2[i].pt], axis=0)\n",
    "    x = x[1:len(x)]\n",
    "    bandwidth = estimate_bandwidth(x, quantile=0.0099)#, n_samples=100000)\n",
    "    ms = MeanShift(bandwidth=bandwidth, bin_seeding=True, cluster_all=True)\n",
    "    ms.fit(x)\n",
    "    labels = ms.labels_\n",
    "    cluster_centers = ms.cluster_centers_\n",
    "    labels_unique = np.unique(labels)\n",
    "    n_clusters_ = len(labels_unique)\n",
    "    s = [None] * n_clusters_\n",
    "    for i in range(n_clusters_):\n",
    "        l = ms.labels_\n",
    "        d, = np.where(l == i)\n",
    "        # print(d.__len__())\n",
    "        s[i] = list(point_k2[xx] for xx in d)\n",
    "    desc2_ = desc2\n",
    "    all_im = train_im.copy()\n",
    "    for i in range(n_clusters_):\n",
    "        point_k2 = s[i]\n",
    "        l = ms.labels_\n",
    "        d, = np.where(l == i)\n",
    "        desc2 = desc2_[d, ]\n",
    "        flanin = 0\n",
    "        index_params = dict(algorithm = flanin, trees = 5)\n",
    "        search_params = dict(checks = 50)\n",
    "        flann = cv2.FlannBasedMatcher(index_params, search_params)\n",
    "        desc1 = np.float32(desc1)\n",
    "        desc2 = np.float32(desc2)\n",
    "        try:\n",
    "          best_match = flann.knnMatch(desc1, desc2, 2)\n",
    "        except:\n",
    "          continue\n",
    "        all_best_m = []\n",
    "        for m,n in best_match:\n",
    "            if m.distance < 0.65 * n.distance:\n",
    "                all_best_m.append(m)\n",
    "        if len(all_best_m)>5:\n",
    "            src_pts = np.float32([ point_k1[m.queryIdx].pt for m in all_best_m ]).reshape(-1,1,2)\n",
    "            dst_pts = np.float32([ point_k2[m.trainIdx].pt for m in all_best_m ]).reshape(-1,1,2)\n",
    "            M, mask = cv2.findHomography(src_pts, dst_pts, cv2.RANSAC, 5.0) # ИСПРАВИЛА ПОСЛ ПАРАМЕТР С 2 НА 5.0\n",
    "            if M is None:\n",
    "              continue\n",
    "            else:\n",
    "                best_matchMask = mask.ravel().tolist()\n",
    "                h,w,_ = temp_im.shape\n",
    "                pts = np.float32([ [0,0],[0,h-1],[w-1,h-1],[w-1,0] ]).reshape(-1,1,2)\n",
    "                dst = cv2.perspectiveTransform(pts,M)\n",
    "                dst_piphagorus = np.sqrt((dst[0][0][0] - dst[2][0][0])**2 + (dst[0][0][1] - dst[2][0][1])**2)\n",
    "                if (dst_piphagorus <= 1.2 * np.sqrt((temp_im.shape[0])**2 + (temp_im.shape[1])**2) ) and (dst_piphagorus >= 0.9 * np.sqrt((temp_im.shape[0])**2 + (temp_im.shape[1])**2) ): \n",
    "                  xmin = int(dst[0][0][0])\n",
    "                  ymin = int(dst[0][0][1])\n",
    "                  xmax = int(dst[2][0][0])\n",
    "                  ymax = int(dst[2][0][1])\n",
    "                  if all(((i[0] - xmin)**2 + (i[1] - ymin)**2) >= (min(temp_im.shape[0]//1.5, temp_im.shape[1]//1.5))**2 for i in minl) or len(minl) == 0:\n",
    "                    bbox.append([xmin, ymin, xmax, ymax])\n",
    "                    yolo_result.append((xmin / train_im.shape[0], ymin / train_im.shape[1], (xmax - xmin) / train_im.shape[0], (ymax - ymin) / train_im.shape[1] ) )\n",
    "                    minl.append((xmin, ymin))\n",
    "    else:\n",
    "        best_matchMask = None\n",
    "    for bbox in bbox:\n",
    "      all_im = cv2.rectangle(all_im, (bbox[0], bbox[1]), (bbox[2], bbox[3]), (255,0,0), 3)\n",
    "    return yolo_result"
   ]
  },
  {
   "cell_type": "code",
   "execution_count": 2,
   "id": "5615c8b4",
   "metadata": {
    "ExecuteTime": {
     "end_time": "2022-12-17T16:28:49.984775Z",
     "start_time": "2022-12-17T16:28:49.895022Z"
    }
   },
   "outputs": [],
   "source": [
    "img = cv2.imread(\"train/train_0.jpg\")\n",
    "query = cv2.imread('train/template_0_0.jpg')"
   ]
  },
  {
   "cell_type": "code",
   "execution_count": 3,
   "id": "8507b50d",
   "metadata": {
    "ExecuteTime": {
     "end_time": "2022-12-17T16:29:25.286752Z",
     "start_time": "2022-12-17T16:29:00.595904Z"
    }
   },
   "outputs": [
    {
     "data": {
      "text/plain": [
       "[(0.15625, 0.8347222222222223, 0.0484375, 0.1875),\n",
       " (0.15546875, 0.5583333333333333, 0.046875, 0.19166666666666668),\n",
       " (0.10546875, 1.101388888888889, 0.04609375, 0.18055555555555555),\n",
       " (0.10078125, 0.5402777777777777, 0.05, 0.2013888888888889),\n",
       " (0.08828125, 0.21388888888888888, 0.05390625, 0.22361111111111112),\n",
       " (0.15078125, 1.3291666666666666, 0.0515625, 0.20972222222222223),\n",
       " (0.14453125, 0.22361111111111112, 0.053125, 0.21944444444444444),\n",
       " (0.090625, 1.3277777777777777, 0.0546875, 0.2125),\n",
       " (0.0890625, 1.6083333333333334, 0.0546875, 0.19583333333333333)]"
      ]
     },
     "execution_count": 3,
     "metadata": {},
     "output_type": "execute_result"
    }
   ],
   "source": [
    "predict_image(img, query)"
   ]
  },
  {
   "cell_type": "code",
   "execution_count": null,
   "id": "7ac6feba",
   "metadata": {},
   "outputs": [],
   "source": []
  }
 ],
 "metadata": {
  "kernelspec": {
   "display_name": "Python 3 (ipykernel)",
   "language": "python",
   "name": "python3"
  },
  "language_info": {
   "codemirror_mode": {
    "name": "ipython",
    "version": 3
   },
   "file_extension": ".py",
   "mimetype": "text/x-python",
   "name": "python",
   "nbconvert_exporter": "python",
   "pygments_lexer": "ipython3",
   "version": "3.9.12"
  }
 },
 "nbformat": 4,
 "nbformat_minor": 5
}
